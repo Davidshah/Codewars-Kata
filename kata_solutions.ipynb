{
 "cells": [
  {
   "cell_type": "markdown",
   "metadata": {},
   "source": [
    "# Workspace for Kata Problems\n",
    "\n",
    "** Disclaimer: Contains solutions for kata problems. Anyone who wishes to work out these problems on their own should stop reading now.**\n",
    "\n",
    "---"
   ]
  },
  {
   "cell_type": "markdown",
   "metadata": {},
   "source": [
    "### Playing with digits\n",
    "\n",
    "Some numbers have funny properties. For example:\n",
    "\n",
    "    89 --> 8¹ + 9² = 89 * 1\n",
    "\n",
    "    695 --> 6² + 9³ + 5⁴= 1390 = 695 * 2\n",
    "\n",
    "    46288 --> 4³ + 6⁴+ 2⁵ + 8⁶ + 8⁷ = 2360688 = 46288 * 51\n",
    "\n",
    "Given a positive integer n written as abcd... (a, b, c, d... being digits) and a positive integer p we want to find a positive integer k, if it exists, such as the sum of the digits of n taken to the successive powers of p is equal to k * n. In other words:\n",
    "\n",
    "    Is there an integer k such as : (a ^ p + b ^ (p+1) + c ^(p+2) + d ^ (p+3) + ...) = n * k\n",
    "\n",
    "If it is the case we will return k, if not return -1.\n",
    "\n",
    "Note: n, p will always be given as strictly positive integers.\n",
    "```\n",
    "dig_pow(89, 1) should return 1 since 8¹ + 9² = 89 = 89 * 1\n",
    "dig_pow(92, 1) should return -1 since there is no k such as 9¹ + 2² equals 92 * k\n",
    "dig_pow(695, 2) should return 2 since 6² + 9³ + 5⁴= 1390 = 695 * 2\n",
    "dig_pow(46288, 3) should return 51 since 4³ + 6⁴+ 2⁵ + 8⁶ + 8⁷ = 2360688 = 46288 * 51\n",
    "```"
   ]
  },
  {
   "cell_type": "code",
   "execution_count": 1,
   "metadata": {
    "collapsed": true
   },
   "outputs": [],
   "source": [
    "### My Solution\n",
    "def dig_pow(n, p):\n",
    "    \"\"\" (int, int) -> int\n",
    "    Return integer k if:\n",
    "    (a ^ p + b ^ (p+1) + c ^(p+2) + d ^ (p+3) + ...) = n * k\n",
    "    \"\"\"\n",
    "    # Get digits as list\n",
    "    digits = [int(x) for x in str(n)]\n",
    "    \n",
    "    # Initalize variables\n",
    "    nlen = len(digits)\n",
    "    p = p\n",
    "    sum = 0\n",
    "    \n",
    "    # Calculate sum of digits raised to increasing power\n",
    "    for i in range(nlen):\n",
    "        sum += digits[i]**p\n",
    "        p += 1\n",
    "    \n",
    "    # If sum can be divided by n with no remainder, return k\n",
    "    if sum % n == 0:\n",
    "        return sum / n\n",
    "            \n",
    "    return -1"
   ]
  },
  {
   "cell_type": "code",
   "execution_count": 2,
   "metadata": {
    "collapsed": true
   },
   "outputs": [],
   "source": [
    "### Best Voted Solution\n",
    "def dig_pow(n, p):\n",
    "    s = 0\n",
    "    for i,c in enumerate(str(n)):\n",
    "        s += pow(int(c),p+i)\n",
    "    return s/n if s%n==0 else -1"
   ]
  },
  {
   "cell_type": "markdown",
   "metadata": {},
   "source": [
    "### Square Every Digit\n",
    "\n",
    "Welcome. In this kata, you are asked to square every digit of a number.\n",
    "\n",
    "For example, if we run 9119 through the function, 811181 will come out.\n",
    "\n",
    "Note: The function accepts an integer and returns an integer"
   ]
  },
  {
   "cell_type": "code",
   "execution_count": 3,
   "metadata": {
    "collapsed": true
   },
   "outputs": [],
   "source": [
    "### My Solution\n",
    "def square_digits(num):\n",
    "    \"\"\" (int) -> int\n",
    "    Return every digit of num squared.\n",
    "    \"\"\"\n",
    "    sd = ''\n",
    "    for i in str(num):\n",
    "        sd += str(int(i)**2)\n",
    "        \n",
    "    return int(sd)"
   ]
  },
  {
   "cell_type": "code",
   "execution_count": 4,
   "metadata": {
    "collapsed": true
   },
   "outputs": [],
   "source": [
    "### Best Voted Solution\n",
    "def square_digits(num):\n",
    "    ret = \"\"\n",
    "    for x in str(num):\n",
    "        ret += str(int(x)**2)\n",
    "    return int(ret)"
   ]
  },
  {
   "cell_type": "markdown",
   "metadata": {},
   "source": [
    "### Unique in Order\n",
    "\n",
    "mplement the function unique_in_order which takes as argument a sequence and returns a list of items without any elements with the same value next to each other and preserving the original order of elements.\n",
    "\n",
    "For example:\n",
    "```\n",
    "unique_in_order('AAAABBBCCDAABBB') == ['A', 'B', 'C', 'D', 'A', 'B']\n",
    "unique_in_order('ABBCcAD')         == ['A', 'B', 'C', 'c', 'A', 'D']\n",
    "unique_in_order([1,2,2,3,3])       == [1,2,3]\n",
    "```"
   ]
  },
  {
   "cell_type": "code",
   "execution_count": 5,
   "metadata": {
    "collapsed": true
   },
   "outputs": [],
   "source": [
    "### My Solution\n",
    "def unique_in_order(iterable):\n",
    "    \"\"\" (iterable) -> list\n",
    "    Returns a list of items without any elements with the same value\n",
    "    next to each other and preserving the original order of elements.\n",
    "    \"\"\"\n",
    "    current = []\n",
    "    ret = []\n",
    "    for item in iterable:\n",
    "        if item not in current:\n",
    "            ret.append(item)\n",
    "        current = [item]\n",
    "        \n",
    "    return ret"
   ]
  },
  {
   "cell_type": "code",
   "execution_count": 6,
   "metadata": {
    "collapsed": true
   },
   "outputs": [],
   "source": [
    "### Best Voted Solution\n",
    "def unique_in_order(iterable):\n",
    "    result = []\n",
    "    prev = None\n",
    "    for char in iterable[0:]:\n",
    "        if char != prev:\n",
    "            result.append(char)\n",
    "            prev = char\n",
    "    return result"
   ]
  },
  {
   "cell_type": "markdown",
   "metadata": {},
   "source": [
    "### Bit Counting\n",
    "\n",
    "Write a function that takes an (unsigned) integer as input, and returns the number of bits that are equal to one in the binary representation of that number.\n",
    "\n",
    "Example: The binary representation of 1234 is 10011010010, so the function should return 5 in this case"
   ]
  },
  {
   "cell_type": "code",
   "execution_count": 7,
   "metadata": {
    "collapsed": true
   },
   "outputs": [],
   "source": [
    "### My Solution\n",
    "def countBits(n):\n",
    "    \"\"\" (int) -> int\n",
    "    Return the number of bits equal to one in binary representation\n",
    "    of given number.\n",
    "    \"\"\"\n",
    "    ret = 0\n",
    "    while n:\n",
    "        n &= n - 1\n",
    "        ret += 1\n",
    "    return ret"
   ]
  },
  {
   "cell_type": "code",
   "execution_count": 8,
   "metadata": {
    "collapsed": true
   },
   "outputs": [],
   "source": [
    "### Best Voted Solution\n",
    "def countBits(n):\n",
    "    return bin(n).count(\"1\")"
   ]
  },
  {
   "cell_type": "markdown",
   "metadata": {},
   "source": [
    "### Delete Occurences of an Element if it Occurs More Than n Times\n",
    "\n",
    "Enough is enough!\n",
    "\n",
    "Alice and Bob were on a holiday. Both of them took many pictures of the places they've been, and now they want to show Charlie their entire collection. However, Charlie doesn't like this sessions, since the motive usually repeats. He isn't fond of seeing the Eiffel tower 40 times. He tells them that he will only sit during the session if they show the same motive at most N times. Luckily, Alice and Bob are able to encode the motive as a number. Can you help them to remove numbers such that their list contains each number only up to N times, without changing the order?\n",
    "\n",
    "Task\n",
    "\n",
    "Given a list lst and a number N, create a new list that contains each number of lst at most N times without reordering. For example if N = 2, and the input is [1,2,3,1,2,1,2,3], you take [1,2,3,1,2], drop the next [1,2] since this would lead to 1 and 2 being in the result 3 times, and then take 3, which leads to [1,2,3,1,2,3].\n",
    "\n",
    "Example\n",
    "```\n",
    "delete_nth ([1,1,1,1],2) # return [1,1]\n",
    "delete_nth ([20,37,20,21],1) # return [20,37,21]\n",
    "```"
   ]
  },
  {
   "cell_type": "code",
   "execution_count": 9,
   "metadata": {
    "collapsed": true
   },
   "outputs": [],
   "source": [
    "### My Solution\n",
    "def delete_nth(order,max_e):\n",
    "    \"\"\" (list, int) -> list\n",
    "    Return new list with no element repeating\n",
    "    more than max_e.\n",
    "    \"\"\"\n",
    "    counts = {}\n",
    "    ret = []\n",
    "    \n",
    "    for i in order:\n",
    "        if i not in counts:\n",
    "            counts[i] = 1\n",
    "        else:\n",
    "            counts[i] += 1\n",
    "            \n",
    "        if counts[i] <= max_e:\n",
    "            ret.append(i)\n",
    "            \n",
    "    return ret"
   ]
  },
  {
   "cell_type": "code",
   "execution_count": 10,
   "metadata": {
    "collapsed": true
   },
   "outputs": [],
   "source": [
    "### Best Voted Solution\n",
    "def delete_nth(order,max_e):\n",
    "    ans = []\n",
    "    for o in order:\n",
    "        if ans.count(o) < max_e: ans.append(o)\n",
    "    return ans"
   ]
  },
  {
   "cell_type": "markdown",
   "metadata": {},
   "source": [
    "### Moving Zeroes to the End\n",
    "\n",
    "Write an algorithm that takes an array and moves all of the zeros to the end, preserving the order of the other elements.\n",
    "```\n",
    "move_zeros([false,1,0,1,2,0,1,3,\"a\"]) # returns[false,1,1,2,1,3,\"a\",0,0]\n",
    "```"
   ]
  },
  {
   "cell_type": "code",
   "execution_count": 11,
   "metadata": {
    "collapsed": true
   },
   "outputs": [],
   "source": [
    "### My Solution\n",
    "def move_zeros(array):\n",
    "    \"\"\" (list) -> list\n",
    "    Return array with zeros moved to end.    \n",
    "    \"\"\"\n",
    "    # Initalize return variables\n",
    "    zeros = []\n",
    "    ret = []\n",
    "    \n",
    "    # Iterate through array\n",
    "    for i in array:\n",
    "        # If not special case of 0.0, add to return variables\n",
    "        if not isinstance(i, float):\n",
    "            if i is not 0:\n",
    "                ret.append(i)\n",
    "            else:\n",
    "                zeros.append(int(i))\n",
    "        # If is special case of 0.0 add, to return variables    \n",
    "        else:\n",
    "            if i != 0.0:\n",
    "                ret.append(i)\n",
    "            else:\n",
    "                zeros.append(int(i))\n",
    "    \n",
    "    # Combine return variables\n",
    "    ret += zeros\n",
    "        \n",
    "    return ret"
   ]
  },
  {
   "cell_type": "code",
   "execution_count": 12,
   "metadata": {
    "collapsed": true
   },
   "outputs": [],
   "source": [
    "### Best Voted Solution\n",
    "def move_zeros(arr):\n",
    "    l = [i for i in arr if isinstance(i, bool) or i!=0]\n",
    "    return l+[0]*(len(arr)-len(l))"
   ]
  },
  {
   "cell_type": "markdown",
   "metadata": {},
   "source": [
    "### Dubstep\n",
    "\n",
    "Polycarpus works as a DJ in the best Berland nightclub, and he often uses dubstep music in his performance. Recently, he has decided to take a couple of old songs and make dubstep remixes from them.\n",
    "\n",
    "Let's assume that a song consists of some number of words. To make the dubstep remix of this song, Polycarpus inserts a certain number of words \"WUB\" before the first word of the song (the number may be zero), after the last word (the number may be zero), and between words (at least one between any pair of neighbouring words), and then the boy glues together all the words, including \"WUB\", in one string and plays the song at the club.\n",
    "\n",
    "For example, a song with words \"I AM X\" can transform into a dubstep remix as \"WUBWUBIWUBAMWUBWUBX\" and cannot transform into \"WUBWUBIAMWUBX\".\n",
    "\n",
    "Recently, Jonny has heard Polycarpus's new dubstep track, but since he isn't into modern music, he decided to find out what was the initial song that Polycarpus remixed. Help Jonny restore the original song.\n",
    "\n",
    "Input:\n",
    "\n",
    "The input consists of a single non-empty string, consisting only of uppercase English letters, the string's length doesn't exceed 200 characters\n",
    "\n",
    "Output:\n",
    "\n",
    "Return the words of the initial song that Polycarpus used to make a dubsteb remix. Separate the words with a space.\n",
    "\n",
    "Examples:\n",
    "```\n",
    "song_decoder(\"WUBWEWUBAREWUBWUBTHEWUBCHAMPIONSWUBMYWUBFRIENDWUB\")\n",
    "  # =>  WE ARE THE CHAMPIONS MY FRIEND\n",
    "```"
   ]
  },
  {
   "cell_type": "code",
   "execution_count": 13,
   "metadata": {
    "collapsed": true
   },
   "outputs": [],
   "source": [
    "### My Solution\n",
    "def song_decoder(song):\n",
    "    \"\"\" (str) -> str\n",
    "    Return string seperated by 'WUB' occurances.\n",
    "    \"\"\"\n",
    "    # Convert to list\n",
    "    ret = song.split('WUB')\n",
    "\n",
    "    # Remove extra spaces from list\n",
    "    ret = list(filter(lambda x: x != '', ret))\n",
    "    \n",
    "    # Convert to string\n",
    "    ret = ' '.join(ret)\n",
    "    \n",
    "    return ret"
   ]
  },
  {
   "cell_type": "code",
   "execution_count": 14,
   "metadata": {
    "collapsed": true
   },
   "outputs": [],
   "source": [
    "### Best Voted Solution\n",
    "def song_decoder(song):\n",
    "    return \" \".join(song.replace('WUB', ' ').split())"
   ]
  },
  {
   "cell_type": "markdown",
   "metadata": {},
   "source": [
    "### Sum of Digits / Digital Root\n",
    "\n",
    "In this kata, you must create a digital root function.\n",
    "\n",
    "A digital root is the recursive sum of all the digits in a number. Given n, take the sum of the digits of n. If that value has two digits, continue reducing in this way until a single-digit number is produced. This is only applicable to the natural numbers.\n",
    "\n",
    "Here's how it works (Ruby example given):\n",
    "```\n",
    "digital_root(16)\n",
    "=> 1 + 6\n",
    "=> 7\n",
    "\n",
    "digital_root(942)\n",
    "=> 9 + 4 + 2\n",
    "=> 15 ...\n",
    "=> 1 + 5\n",
    "=> 6\n",
    "\n",
    "digital_root(132189)\n",
    "=> 1 + 3 + 2 + 1 + 8 + 9\n",
    "=> 24 ...\n",
    "=> 2 + 4\n",
    "=> 6\n",
    "\n",
    "digital_root(493193)\n",
    "=> 4 + 9 + 3 + 1 + 9 + 3\n",
    "=> 29 ...\n",
    "=> 2 + 9\n",
    "=> 11 ...\n",
    "=> 1 + 1\n",
    "=> 2\n",
    "```"
   ]
  },
  {
   "cell_type": "code",
   "execution_count": 15,
   "metadata": {
    "collapsed": true
   },
   "outputs": [],
   "source": [
    "### My Solution\n",
    "def digital_root(n):\n",
    "    \"\"\" (int) -> int\n",
    "    Return recursive sum of all the digits in a number.\n",
    "    \"\"\"\n",
    "    # Get root sum\n",
    "    root = sum([int(i) for i in str(n)])\n",
    "    \n",
    "    # If not single int, repeat\n",
    "    if len(str(root)) == 1:\n",
    "        return root\n",
    "    else:\n",
    "        return digital_root(root)"
   ]
  },
  {
   "cell_type": "code",
   "execution_count": 16,
   "metadata": {
    "collapsed": true
   },
   "outputs": [],
   "source": [
    "### Best Voted Solution\n",
    "def digital_root(n):\n",
    "    return n if n < 10 else digital_root(sum(map(int,str(n))))"
   ]
  },
  {
   "cell_type": "markdown",
   "metadata": {},
   "source": [
    "### Weight for weight\n",
    "\n",
    "My friend John and I are members of the \"Fat to Fit Club (FFC)\". John is worried because each month a list with the weights of members is published and each month he is the last on the list which means he is the heaviest.\n",
    "\n",
    "I am the one who establishes the list so I told him: \"Don't worry any more, I will modify the order of the list\". It was decided to attribute a \"weight\" to numbers. The weight of a number will be from now on the sum of its digits.\n",
    "\n",
    "For example 99 will have \"weight\" 18, 100 will have \"weight\" 1 so in the list 100 will come before 99. Given a string with the weights of FFC members in normal order can you give this string ordered by \"weights\" of these numbers?\n",
    "Example:\n",
    "\n",
    "`\"56 65 74 100 99 68 86 180 90\"` ordered by numbers weights becomes: `\"100 180 90 56 65 74 68 86 99\"`\n",
    "\n",
    "When two numbers have the same \"weight\", let us class them as if they were strings and not numbers: 100 is before 180 because its \"weight\" (1) is less than the one of 180 (9) and 180 is before 90 since, having the same \"weight\" (9) it comes before as a string.\n",
    "\n",
    "All numbers in the list are positive numbers and the list can be empty."
   ]
  },
  {
   "cell_type": "code",
   "execution_count": 17,
   "metadata": {
    "collapsed": true
   },
   "outputs": [],
   "source": [
    "### My Solution\n",
    "def order_weight(strng):\n",
    "    \"\"\" (str) -> str\n",
    "    Return custom sorted string.\n",
    "    \"\"\"\n",
    "    # Create sorting func for sum of digits\n",
    "    def sorting_func(s):\n",
    "        return sum([int(x) for x in s])\n",
    "    \n",
    "    # Convert string to list\n",
    "    string_list = strng.split()\n",
    "    \n",
    "    # Sort as string, then with custom sort\n",
    "    sort1 = sorted(string_list)\n",
    "    sort2 = sorted(sort1, key=sorting_func)\n",
    "\n",
    "    return \" \".join(sort2)"
   ]
  },
  {
   "cell_type": "code",
   "execution_count": 18,
   "metadata": {
    "collapsed": true
   },
   "outputs": [],
   "source": [
    "### Best Voted Solution\n",
    "def order_weight(_str):\n",
    "    return ' '.join(sorted(sorted(_str.split(' ')), key=lambda x: sum(int(c) for c in x)))"
   ]
  },
  {
   "cell_type": "markdown",
   "metadata": {},
   "source": [
    "### First non-repeating character\n",
    "\n",
    "Write a function named firstNonRepeatingLetter that takes a string input, and returns the first character that is not repeated anywhere in the string.\n",
    "\n",
    "For example, if given the input 'stress', the function should return 't', since the letter t only occurs once in the string, and occurs first in the string.\n",
    "\n",
    "As an added challenge, upper- and lowercase letters are considered the same character, but the function should return the correct case for the initial letter. For example, the input 'sTreSS' should return 'T'.\n",
    "\n",
    "If a string contains all repeating characters, it should return the empty string (\"\")."
   ]
  },
  {
   "cell_type": "code",
   "execution_count": 19,
   "metadata": {
    "collapsed": true
   },
   "outputs": [],
   "source": [
    "### My Solution\n",
    "def first_non_repeating_letter(string):\n",
    "    \"\"\" (str) -> str\n",
    "    Return first non-repeating letter.\n",
    "    \"\"\"\n",
    "    from collections import Counter\n",
    "    \n",
    "    # Initalize counter\n",
    "    count = Counter(string.lower())\n",
    "    \n",
    "    # Iterate and check counter\n",
    "    for c in string:\n",
    "        if count[c.lower()] == 1:\n",
    "            return c\n",
    "    \n",
    "    return \"\""
   ]
  },
  {
   "cell_type": "code",
   "execution_count": 20,
   "metadata": {
    "collapsed": true
   },
   "outputs": [],
   "source": [
    "### Best Voted Solution\n",
    "def first_non_repeating_letter(string):\n",
    "    string_lower = string.lower()\n",
    "    for i, letter in enumerate(string_lower):\n",
    "        if string_lower.count(letter) == 1:\n",
    "            return string[i]\n",
    "            \n",
    "    return \"\""
   ]
  },
  {
   "cell_type": "markdown",
   "metadata": {},
   "source": [
    "### Sort the odd\n",
    "\n",
    "You have an array of numbers.\n",
    "Your task is to sort ascending odd numbers but even numbers must be on their places.\n",
    "\n",
    "Zero isn't an odd number and you don't need to move it. If you have an empty array, you need to return it.\n",
    "\n",
    "`sortArray([5, 3, 2, 8, 1, 4]) == [1, 3, 2, 8, 5, 4]`"
   ]
  },
  {
   "cell_type": "code",
   "execution_count": 21,
   "metadata": {
    "collapsed": true
   },
   "outputs": [],
   "source": [
    "### My Solution\n",
    "def sort_array(source_array):\n",
    "    \"\"\" (list) -> list\n",
    "    Return list sorted on odd digits.\n",
    "    \"\"\"\n",
    "    # Initalize return and stack\n",
    "    ret = []\n",
    "    stack = []\n",
    "    \n",
    "    # Add odd numbers to stack\n",
    "    for i in source_array:\n",
    "        if i % 2 != 0:\n",
    "            stack.append(i)\n",
    "    \n",
    "    # Reverse sort stack for easy extraction\n",
    "    stack.sort(reverse=True)\n",
    "    \n",
    "    # Build return list\n",
    "    for i in source_array:\n",
    "        if i % 2 != 0:\n",
    "            ret.append(stack.pop())\n",
    "        else:\n",
    "            ret.append(i)\n",
    "    \n",
    "    return ret"
   ]
  },
  {
   "cell_type": "code",
   "execution_count": 22,
   "metadata": {
    "collapsed": true
   },
   "outputs": [],
   "source": [
    "### Best Voted Solution\n",
    "def sort_array(arr):\n",
    "    odds = sorted((x for x in arr if x%2 != 0), reverse=True)\n",
    "    return [x if x%2==0 else odds.pop() for x in arr]"
   ]
  },
  {
   "cell_type": "markdown",
   "metadata": {},
   "source": [
    "### Two Joggers\n",
    "\n",
    "Bob and Charles are meeting for their weekly jogging tour. They both start at the same spot called \"Start\" and they each run a different lap, which may (or may not) vary in length. Since they know each other for a long time already, they both run at the exact same speed.\n",
    "\n",
    "Your job is to complete the function nbrOfLaps(x, y) that, given the length of the laps for Bob and Charles, finds the number of laps that each jogger has to complete before they meet each other again, at the same time, at the start.\n",
    "\n",
    "The function takes two arguments:\n",
    "\n",
    "1. The length of Bob's lap (larger than 0)\n",
    "2. The length of Charles' lap (larger than 0)\n",
    "\n",
    "\n",
    "The function should return an array containing exactly two numbers:\n",
    "\n",
    "1. The first number is the number of laps that Bob has to run\n",
    "2. The second number is the number of laps that Charles has to run"
   ]
  },
  {
   "cell_type": "code",
   "execution_count": 23,
   "metadata": {
    "collapsed": true
   },
   "outputs": [],
   "source": [
    "### My Solution\n",
    "def nbr_of_laps(x, y):\n",
    "    \"\"\" (int, int) -> list\n",
    "    Return number of laps to meet.\n",
    "    \"\"\"\n",
    "    # Find max value\n",
    "    if x == y:\n",
    "        return [1,1]\n",
    "    elif x > y:\n",
    "        max = x\n",
    "    else:\n",
    "        max = y\n",
    "    \n",
    "    # Store max value for increasing test\n",
    "    max_test = max\n",
    "    \n",
    "    # Find least common multiple\n",
    "    while True:\n",
    "        if max % x == 0 and max % y == 0:\n",
    "            lcm = max\n",
    "            break\n",
    "        max += max_test\n",
    "    \n",
    "    return [lcm/x, lcm/y]"
   ]
  },
  {
   "cell_type": "code",
   "execution_count": 24,
   "metadata": {
    "collapsed": true
   },
   "outputs": [],
   "source": [
    "### Best Voted Solution\n",
    "from fractions import gcd\n",
    "\n",
    "def nbr_of_laps(x, y):\n",
    "    return (y / gcd(x,y), x / gcd(x,y))"
   ]
  },
  {
   "cell_type": "markdown",
   "metadata": {},
   "source": [
    "### Scramblies\n",
    "\n",
    "Write function scramble(str1,str2) that returns true if a portion of str1 characters can be rearranged to match str2, otherwise returns false.\n",
    "\n",
    "For example:  \n",
    "str1 is 'rkqodlw' and str2 is 'world' the output should return true.  \n",
    "str1 is 'cedewaraaossoqqyt' and str2 is 'codewars' should return true.  \n",
    "str1 is 'katas' and str2 is 'steak' should return false.\n",
    "\n",
    "Only lower case letters will be used (a-z). No punctuation or digits will be included."
   ]
  },
  {
   "cell_type": "code",
   "execution_count": 25,
   "metadata": {
    "collapsed": true
   },
   "outputs": [],
   "source": [
    "### My Solution\n",
    "def scramble(s1,s2):\n",
    "    \"\"\" (str, str) -> bool\n",
    "    Return True if a portion of s1 can be used\n",
    "    to recreate s2.\n",
    "    \"\"\"\n",
    "    from collections import Counter\n",
    "    \n",
    "    # Get character counts for each str\n",
    "    count1 = Counter(s1)\n",
    "    count2 = Counter(s2)\n",
    "    \n",
    "    # Check if enough characters in s1 to match s2\n",
    "    for c in s2:\n",
    "        if count1[c] < count2[c]:\n",
    "            return False\n",
    "    \n",
    "    return True"
   ]
  },
  {
   "cell_type": "code",
   "execution_count": 26,
   "metadata": {
    "collapsed": true
   },
   "outputs": [],
   "source": [
    "### Best Voted Solution\n",
    "from collections import Counter\n",
    "def scramble(s1,s2):\n",
    "    # Counter basically creates a dictionary of counts and letters\n",
    "    # Using set subtraction, we know that if anything is left over,\n",
    "    # something exists in s2 that doesn't exist in s1\n",
    "    return len(Counter(s2)- Counter(s1)) == 0"
   ]
  },
  {
   "cell_type": "markdown",
   "metadata": {},
   "source": [
    "### RGB To Hex Conversion\n",
    "\n",
    "The rgb() method is incomplete. Complete the method so that passing in RGB decimal values will result in a hexadecimal representation being returned. The valid decimal values for RGB are 0 - 255. Any (r,g,b) argument values that fall out of that range should be rounded to the closest valid value.\n",
    "\n",
    "The following are examples of expected output values:\n",
    "```\n",
    "rgb(255, 255, 255) # returns FFFFFF\n",
    "rgb(255, 255, 300) # returns FFFFFF\n",
    "rgb(0,0,0) # returns 000000\n",
    "rgb(148, 0, 211) # returns 9400D3\n",
    "```"
   ]
  },
  {
   "cell_type": "code",
   "execution_count": 27,
   "metadata": {
    "collapsed": true
   },
   "outputs": [],
   "source": [
    "### My Solution\n",
    "def rgb(r, g, b):\n",
    "    \"\"\" (int, int, int) -> str\n",
    "    Return rgb values as hexadecimal.\n",
    "    \"\"\"\n",
    "    # Check if out of bounds\n",
    "    if r < 0:\n",
    "        r = 0\n",
    "    elif r > 255:\n",
    "        r = 255\n",
    "        \n",
    "    if g < 0:\n",
    "        g = 0\n",
    "    elif g > 255:\n",
    "        g = 255\n",
    "        \n",
    "    if b < 0:\n",
    "        b = 0\n",
    "    elif b > 255:\n",
    "        b = 255\n",
    "    \n",
    "    return '{:02x}{:02x}{:02x}'.format(r, g, b).upper()"
   ]
  },
  {
   "cell_type": "code",
   "execution_count": 28,
   "metadata": {
    "collapsed": true
   },
   "outputs": [],
   "source": [
    "### Best Voted Solution\n",
    "def rgb(r, g, b):\n",
    "    round = lambda x: min(255, max(x, 0))\n",
    "    return (\"{:02X}\" * 3).format(round(r), round(g), round(b))"
   ]
  },
  {
   "cell_type": "markdown",
   "metadata": {},
   "source": [
    "### Pick peaks\n",
    "\n",
    "In this kata, you will write a function that returns the positions and the values of the \"peaks\" (or local maxima) of a numeric array.\n",
    "\n",
    "For example, the array arr = [0, 1, 2, 5, 1, 0] has a peak at position 3 with a value of 5 (since arr[3] equals 5).\n",
    "\n",
    "The output will be returned as an object with two properties: pos and peaks. Both of these properties should be arrays. If there is no peak in the given array, then the output should be {pos: [], peaks: []}.\n",
    "\n",
    "Example: pickPeaks([3, 2, 3, 6, 4, 1, 2, 3, 2, 1, 2, 3]) should return {pos: [3, 7], peaks: [6, 3]} (or equivalent in other languages)\n",
    "\n",
    "All input arrays will be valid integer arrays (although it could still be empty), so you won't need to validate the input.\n",
    "\n",
    "The first and last elements of the array will not be considered as peaks (in the context of a mathematical function, we don't know what is after and before and therefore, we don't know if it is a peak or not).\n",
    "\n",
    "Also, beware of plateaus !!! [1, 2, 2, 2, 1] has a peak while [1, 2, 2, 2, 3] does not. In case of a plateau-peak, please only return the position and value of the beginning of the plateau. For example: pickPeaks([1, 2, 2, 2, 1]) returns {pos: [1], peaks: [2]} (or equivalent in other languages)\n",
    "\n",
    "Have fun!"
   ]
  },
  {
   "cell_type": "code",
   "execution_count": 29,
   "metadata": {
    "collapsed": true
   },
   "outputs": [],
   "source": [
    "### My Solution\n",
    "def pick_peaks(arr):\n",
    "    \"\"\" (list) -> dict\n",
    "    Return position and values of local peaks.\n",
    "    \"\"\"\n",
    "    # Initate variables\n",
    "    ret = {'pos': [], 'peaks': []}\n",
    "    pos = -1\n",
    "    \n",
    "    # Iterate through idx and value\n",
    "    for i,x in enumerate(arr):\n",
    "        # Do nothing for first item\n",
    "        if i == 0:\n",
    "            continue\n",
    "        # If larger than last number store position\n",
    "        if x > arr[i-1]:\n",
    "            pos = i\n",
    "        # If smaller than last number and not on down slope add to result\n",
    "        elif x < arr[i-1] and pos != -1:\n",
    "            ret['pos'].append(pos)\n",
    "            ret['peaks'].append(arr[pos])\n",
    "            pos = -1"
   ]
  },
  {
   "cell_type": "code",
   "execution_count": 30,
   "metadata": {
    "collapsed": true
   },
   "outputs": [],
   "source": [
    "### Best Voted Solution\n",
    "def pick_peaks(arr):\n",
    "    pos = []\n",
    "    prob_peak = False\n",
    "    for i in range(1, len(arr)):\n",
    "        if arr[i] > arr[i-1]:\n",
    "            prob_peak = i\n",
    "        elif arr[i] < arr[i-1] and prob_peak:\n",
    "            pos.append(prob_peak)\n",
    "            prob_peak = False\n",
    "    return {'pos':pos, 'peaks':[arr[i] for i in pos]}"
   ]
  },
  {
   "cell_type": "markdown",
   "metadata": {},
   "source": [
    "### Land perimeter\n",
    "\n",
    "Given an array arr of strings complete the function landPerimeter by calculating the total perimeter of all the islands. Each piece of land will be marked with 'X' while the water fields are represented as 'O'. Consider each tile being a perfect 1 x 1 piece of land. Some examples for better visualization:\n",
    "```\n",
    "['XOOXO',\n",
    " 'XOOXO',\n",
    " 'OOOXO',\n",
    " 'XXOXO',\n",
    " 'OXOOO']\n",
    "```\n",
    "should return: \"Total land perimeter: 24\""
   ]
  },
  {
   "cell_type": "code",
   "execution_count": 31,
   "metadata": {
    "collapsed": true
   },
   "outputs": [],
   "source": [
    "### My Solution\n",
    "def land_perimeter(arr):\n",
    "    \"\"\" (str) -> str\n",
    "    Return perimeter count for islands.\n",
    "    \"\"\"\n",
    "    # Initalize side count\n",
    "    side_count = sum(4 if c == \"X\" else 0 for r in arr for c in r)\n",
    "    \n",
    "    # Subtract 2 sides for adj islands within rows.\n",
    "    for r in arr:\n",
    "        for i in range(len(r)-1):\n",
    "            curr = r[i]\n",
    "            next = r[i+1]\n",
    "            if curr == next and next == \"X\":\n",
    "                side_count -= 2\n",
    "    \n",
    "    # Subtract 2 sides for adj islands within columns\n",
    "    # Unpack arr and zip to extract columns\n",
    "    for c in zip(*arr):\n",
    "        for i in range(len(c)-1):\n",
    "            curr = c[i]\n",
    "            next = c[i+1]\n",
    "            if curr == next and next == \"X\":\n",
    "                side_count -= 2               \n",
    "\n",
    "    return \"Total land perimeter: {0}\".format(side_count)"
   ]
  },
  {
   "cell_type": "code",
   "execution_count": 32,
   "metadata": {
    "collapsed": true
   },
   "outputs": [],
   "source": [
    "### Best Voted Solution\n",
    "land = lambda a: sum(t == ('X', 'X') for r in a for t in zip(r, r[1:])) * 2\n",
    "\n",
    "def land_perimeter(a):\n",
    "    return 'Total land perimeter: ' + str(''.join(a).count('X') * 4 - land(a) - land(zip(*a)))"
   ]
  },
  {
   "cell_type": "markdown",
   "metadata": {},
   "source": [
    "### Decode the Morse code\n",
    "\n",
    "In this kata you have to write a simple Morse code decoder. While the Morse code is now mostly superceded by voice and digital data communication channels, it still has its use in some applications around the world.\n",
    "\n",
    "The Morse code encodes every character as a sequence of \"dots\" and \"dashes\". For example, the letter A is coded as ·−, letter Q is coded as −−·−, and digit 1 is coded as ·−−−. The Morse code is case-insensitive, traditionally capital letters are used. When the message is written in Morse code, a single space is used to separate the character codes and 3 spaces are used to separate words. For example, the message HEY JUDE in Morse code is ···· · −·−−   ·−−− ··− −·· ·.\n",
    "\n",
    "NOTE: Extra spaces before or after the code have no meaning and should be ignored.\n",
    "\n",
    "In addition to letters, digits and some punctuation, there are some special service codes, the most notorious of those is the international distress signal SOS (that was first issued by Titanic), that is coded as ···−−−···. These special codes are treated as single special characters, and usually are transmitted as separate words.\n",
    "\n",
    "Your task is to implement a function decodeMorse(morseCode), that would take the morse code as input and return a decoded human-readable string.\n",
    "\n",
    "For example:\n",
    "```\n",
    "decodeMorse('.... . -.--   .--- ..- -.. .')\n",
    "#should return \"HEY JUDE\"\n",
    "```\n",
    "The Morse code table is preloaded for you as a dictionary, feel free to use it. In CoffeeScript, C++, Go, JavaScript, PHP, Python, Ruby and TypeScript, the table can be accessed like this: MORSE_CODE['.--'], in Java it is MorseCode.get('.--'), in C# it is MorseCode.Get('.--'), in Haskell the codes are in a Map String String and can be accessed like this: morseCodes ! \".--\", in Elixir it is morse_codes variable."
   ]
  },
  {
   "cell_type": "code",
   "execution_count": 33,
   "metadata": {
    "collapsed": true
   },
   "outputs": [],
   "source": [
    "### My Solution\n",
    "def decodeMorse(morseCode):\n",
    "    \"\"\" (str) -> str\n",
    "    Return decoded morse code.\n",
    "    \"\"\"\n",
    "    # Initalize return\n",
    "    ret = \"\"\n",
    "    \n",
    "    # Break down characters and words\n",
    "    words = [c.split(\" \") for c in morseCode.strip().split(\"   \")]\n",
    "    \n",
    "    # Decode and add to return statement\n",
    "    for w in words:\n",
    "        ret += \"\".join([MORSE_CODE[c] for c in w]) + \" \"\n",
    "    \n",
    "    return ret.strip()"
   ]
  },
  {
   "cell_type": "code",
   "execution_count": 34,
   "metadata": {
    "collapsed": true
   },
   "outputs": [],
   "source": [
    "### Best Voted Solution\n",
    "def decodeMorse(morseCode):\n",
    "    return ' '.join(''.join(MORSE_CODE[letter] for letter in word.split(' ')) for word in morseCode.strip().split('   '))"
   ]
  }
 ],
 "metadata": {
  "anaconda-cloud": {},
  "kernelspec": {
   "display_name": "Python [conda env:aind]",
   "language": "python",
   "name": "conda-env-aind-py"
  },
  "language_info": {
   "codemirror_mode": {
    "name": "ipython",
    "version": 3
   },
   "file_extension": ".py",
   "mimetype": "text/x-python",
   "name": "python",
   "nbconvert_exporter": "python",
   "pygments_lexer": "ipython3",
   "version": "3.6.2"
  }
 },
 "nbformat": 4,
 "nbformat_minor": 2
}
