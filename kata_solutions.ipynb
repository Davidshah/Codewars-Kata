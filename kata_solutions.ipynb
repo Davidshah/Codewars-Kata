{
 "cells": [
  {
   "cell_type": "markdown",
   "metadata": {},
   "source": [
    "# Workspace for Kata Problems\n",
    "\n",
    "[Progress](https://www.codewars.com/users/Davidshah/stats)"
   ]
  },
  {
   "cell_type": "markdown",
   "metadata": {},
   "source": [
    "### Playing with digits\n",
    "\n",
    "Some numbers have funny properties. For example:\n",
    "\n",
    "    89 --> 8¹ + 9² = 89 * 1\n",
    "\n",
    "    695 --> 6² + 9³ + 5⁴= 1390 = 695 * 2\n",
    "\n",
    "    46288 --> 4³ + 6⁴+ 2⁵ + 8⁶ + 8⁷ = 2360688 = 46288 * 51\n",
    "\n",
    "Given a positive integer n written as abcd... (a, b, c, d... being digits) and a positive integer p we want to find a positive integer k, if it exists, such as the sum of the digits of n taken to the successive powers of p is equal to k * n. In other words:\n",
    "\n",
    "    Is there an integer k such as : (a ^ p + b ^ (p+1) + c ^(p+2) + d ^ (p+3) + ...) = n * k\n",
    "\n",
    "If it is the case we will return k, if not return -1.\n",
    "\n",
    "Note: n, p will always be given as strictly positive integers.\n",
    "```\n",
    "dig_pow(89, 1) should return 1 since 8¹ + 9² = 89 = 89 * 1\n",
    "dig_pow(92, 1) should return -1 since there is no k such as 9¹ + 2² equals 92 * k\n",
    "dig_pow(695, 2) should return 2 since 6² + 9³ + 5⁴= 1390 = 695 * 2\n",
    "dig_pow(46288, 3) should return 51 since 4³ + 6⁴+ 2⁵ + 8⁶ + 8⁷ = 2360688 = 46288 * 51\n",
    "```"
   ]
  },
  {
   "cell_type": "code",
   "execution_count": 1,
   "metadata": {
    "collapsed": true
   },
   "outputs": [],
   "source": [
    "### My Solution\n",
    "def dig_pow(n, p):\n",
    "    \"\"\" (int, int) -> int\n",
    "    Return integer k if:\n",
    "    (a ^ p + b ^ (p+1) + c ^(p+2) + d ^ (p+3) + ...) = n * k\n",
    "    \"\"\"\n",
    "    # Get digits as list\n",
    "    digits = [int(x) for x in str(n)]\n",
    "    \n",
    "    # Initalize variables\n",
    "    nlen = len(digits)\n",
    "    p = p\n",
    "    sum = 0\n",
    "    \n",
    "    # Calculate sum of digits raised to increasing power\n",
    "    for i in range(nlen):\n",
    "        sum += digits[i]**p\n",
    "        p += 1\n",
    "    \n",
    "    # If sum can be divided by n with no remainder, return k\n",
    "    if sum % n == 0:\n",
    "        return sum / n\n",
    "            \n",
    "    return -1"
   ]
  },
  {
   "cell_type": "code",
   "execution_count": 2,
   "metadata": {
    "collapsed": true
   },
   "outputs": [],
   "source": [
    "### Best Voted Solution\n",
    "def dig_pow(n, p):\n",
    "    s = 0\n",
    "    for i,c in enumerate(str(n)):\n",
    "        s += pow(int(c),p+i)\n",
    "    return s/n if s%n==0 else -1"
   ]
  },
  {
   "cell_type": "markdown",
   "metadata": {},
   "source": [
    "### Square Every Digit\n",
    "\n",
    "Welcome. In this kata, you are asked to square every digit of a number.\n",
    "\n",
    "For example, if we run 9119 through the function, 811181 will come out.\n",
    "\n",
    "Note: The function accepts an integer and returns an integer"
   ]
  },
  {
   "cell_type": "code",
   "execution_count": 3,
   "metadata": {
    "collapsed": true
   },
   "outputs": [],
   "source": [
    "### My Solution\n",
    "def square_digits(num):\n",
    "    \"\"\" (int) -> int\n",
    "    Return every digit of num squared.\n",
    "    \"\"\"\n",
    "    sd = ''\n",
    "    for i in str(num):\n",
    "        sd += str(int(i)**2)\n",
    "        \n",
    "    return int(sd)"
   ]
  },
  {
   "cell_type": "code",
   "execution_count": 4,
   "metadata": {
    "collapsed": true
   },
   "outputs": [],
   "source": [
    "### Best Voted Solution\n",
    "def square_digits(num):\n",
    "    ret = \"\"\n",
    "    for x in str(num):\n",
    "        ret += str(int(x)**2)\n",
    "    return int(ret)"
   ]
  },
  {
   "cell_type": "markdown",
   "metadata": {},
   "source": [
    "### Unique in Order\n",
    "\n",
    "mplement the function unique_in_order which takes as argument a sequence and returns a list of items without any elements with the same value next to each other and preserving the original order of elements.\n",
    "\n",
    "For example:\n",
    "```\n",
    "unique_in_order('AAAABBBCCDAABBB') == ['A', 'B', 'C', 'D', 'A', 'B']\n",
    "unique_in_order('ABBCcAD')         == ['A', 'B', 'C', 'c', 'A', 'D']\n",
    "unique_in_order([1,2,2,3,3])       == [1,2,3]\n",
    "```"
   ]
  },
  {
   "cell_type": "code",
   "execution_count": 5,
   "metadata": {
    "collapsed": true
   },
   "outputs": [],
   "source": [
    "### My Solution\n",
    "def unique_in_order(iterable):\n",
    "    \"\"\" (iterable) -> list\n",
    "    Returns a list of items without any elements with the same value\n",
    "    next to each other and preserving the original order of elements.\n",
    "    \"\"\"\n",
    "    current = []\n",
    "    ret = []\n",
    "    for item in iterable:\n",
    "        if item not in current:\n",
    "            ret.append(item)\n",
    "        current = [item]\n",
    "        \n",
    "    return ret"
   ]
  },
  {
   "cell_type": "code",
   "execution_count": 6,
   "metadata": {
    "collapsed": true
   },
   "outputs": [],
   "source": [
    "### Best Voted Solution\n",
    "def unique_in_order(iterable):\n",
    "    result = []\n",
    "    prev = None\n",
    "    for char in iterable[0:]:\n",
    "        if char != prev:\n",
    "            result.append(char)\n",
    "            prev = char\n",
    "    return result"
   ]
  },
  {
   "cell_type": "markdown",
   "metadata": {},
   "source": [
    "### Bit Counting\n",
    "\n",
    "Write a function that takes an (unsigned) integer as input, and returns the number of bits that are equal to one in the binary representation of that number.\n",
    "\n",
    "Example: The binary representation of 1234 is 10011010010, so the function should return 5 in this case"
   ]
  },
  {
   "cell_type": "code",
   "execution_count": 7,
   "metadata": {
    "collapsed": true
   },
   "outputs": [],
   "source": [
    "### My Solution\n",
    "def countBits(n):\n",
    "    \"\"\" (int) -> int\n",
    "    Return the number of bits equal to one in binary representation\n",
    "    of given number.\n",
    "    \"\"\"\n",
    "    ret = 0\n",
    "    while n:\n",
    "        n &= n - 1\n",
    "        ret += 1\n",
    "    return ret"
   ]
  },
  {
   "cell_type": "code",
   "execution_count": 8,
   "metadata": {
    "collapsed": true
   },
   "outputs": [],
   "source": [
    "### Best Voted Solution\n",
    "def countBits(n):\n",
    "    return bin(n).count(\"1\")"
   ]
  },
  {
   "cell_type": "markdown",
   "metadata": {},
   "source": [
    "### Delete Occurences of an Element if it Occurs More Than n Times\n",
    "\n",
    "Enough is enough!\n",
    "\n",
    "Alice and Bob were on a holiday. Both of them took many pictures of the places they've been, and now they want to show Charlie their entire collection. However, Charlie doesn't like this sessions, since the motive usually repeats. He isn't fond of seeing the Eiffel tower 40 times. He tells them that he will only sit during the session if they show the same motive at most N times. Luckily, Alice and Bob are able to encode the motive as a number. Can you help them to remove numbers such that their list contains each number only up to N times, without changing the order?\n",
    "\n",
    "Task\n",
    "\n",
    "Given a list lst and a number N, create a new list that contains each number of lst at most N times without reordering. For example if N = 2, and the input is [1,2,3,1,2,1,2,3], you take [1,2,3,1,2], drop the next [1,2] since this would lead to 1 and 2 being in the result 3 times, and then take 3, which leads to [1,2,3,1,2,3].\n",
    "\n",
    "Example\n",
    "```\n",
    "delete_nth ([1,1,1,1],2) # return [1,1]\n",
    "delete_nth ([20,37,20,21],1) # return [20,37,21]\n",
    "```"
   ]
  },
  {
   "cell_type": "code",
   "execution_count": 9,
   "metadata": {
    "collapsed": true
   },
   "outputs": [],
   "source": [
    "### My Solution\n",
    "def delete_nth(order,max_e):\n",
    "    \"\"\" (list, int) -> list\n",
    "    Return new list with no element repeating\n",
    "    more than max_e.\n",
    "    \"\"\"\n",
    "    counts = {}\n",
    "    ret = []\n",
    "    \n",
    "    for i in order:\n",
    "        if i not in counts:\n",
    "            counts[i] = 1\n",
    "        else:\n",
    "            counts[i] += 1\n",
    "            \n",
    "        if counts[i] <= max_e:\n",
    "            ret.append(i)\n",
    "            \n",
    "    return ret"
   ]
  },
  {
   "cell_type": "code",
   "execution_count": null,
   "metadata": {
    "collapsed": true
   },
   "outputs": [],
   "source": [
    "### Best Voted Solution\n",
    "def delete_nth(order,max_e):\n",
    "    ans = []\n",
    "    for o in order:\n",
    "        if ans.count(o) < max_e: ans.append(o)\n",
    "    return ans"
   ]
  }
 ],
 "metadata": {
  "anaconda-cloud": {},
  "kernelspec": {
   "display_name": "Python [conda env:aind]",
   "language": "python",
   "name": "conda-env-aind-py"
  },
  "language_info": {
   "codemirror_mode": {
    "name": "ipython",
    "version": 3
   },
   "file_extension": ".py",
   "mimetype": "text/x-python",
   "name": "python",
   "nbconvert_exporter": "python",
   "pygments_lexer": "ipython3",
   "version": "3.6.2"
  }
 },
 "nbformat": 4,
 "nbformat_minor": 2
}
